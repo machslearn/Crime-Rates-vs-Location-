{
 "cells": [
  {
   "cell_type": "markdown",
   "metadata": {},
   "source": [
    " # APPLIED DATA SCIENCE CAPSTONE PROJECT\n",
    " ### Question 1 - The Battle of Neighbourhoods"
   ]
  },
  {
   "cell_type": "markdown",
   "metadata": {},
   "source": [
    "### 1. INTRODUCTION"
   ]
  },
  {
   "cell_type": "markdown",
   "metadata": {},
   "source": [
    "### 1.1 Description & Disscusion of the Background"
   ]
  },
  {
   "cell_type": "markdown",
   "metadata": {},
   "source": [
    "##### BACKGROUND \n",
    "We are a research company that prepares criminological reports to private customers, governments. universities or small and medium sized enterprises (SMEs) in Istanbul, Turkey. One of our customers, Tourism Restaurant Investors and Operators Association approached us for consultancy services. Basically, they request from us to prepare a report on the following topics:\n",
    "* 1. For a resident, which area has both the safest place and highly densed social places\n",
    "* 2. For the potental investors, where to open up new venues which are crime free\n",
    "* 3. For city governance. where to allocate resources effciently.\n",
    "\n",
    "\n",
    "##### CITY OF ISTANBUL\n",
    "Historically known as Byzantium and Constantinople, Istanbul is the largest city in Turkey and the country's economic, cultural and historic center, which\n",
    "lies in both Europe and Asia, with a population of over 15 million residents,hosting 19 percent of the country's population.64.4% of the residents live on the European side and 35.6% on the Asian side. Currently, there are 39 districts in Istanbul. \n",
    "\n",
    "\n",
    "Istanbul ranks as the seventh-largest city proper in the world, and the second-largest urban agglomeration in Europe, after Moscow.The city's annual population growth of 1.5 percent ranks as one of the highest among the seventy-eight largest metropolises in the Organisation for Economic Co-operation and Development. In addition, The high population growth mirrors an urbanization trend across the country, as the second and third fastest-growing OECD metropolises are the Turkish cities of Izmir and Ankara. Moreover, Istanbul experienced especially rapid growth during the second half of the 20th century, with its population increasing tenfold between 1950 and 2000 [1].\n",
    "\n",
    "All of these figures and information show that istanbul is a higly populated city as well as has a population density. Thanks to the Urbanization, social activitiy centers and entertainment places are clustered in the centers. In addition to this, as criminological theories assert that crime and ecological factors are related.  According to this approach, the higher the density of social venues, the greater the number of crimes. In particular, identification of the structural factors [2] that regards the spatial distribution of crime patterns—the ecological approach—has showed that crimes are alo clustered around the city center. According to this study, rates of crime were found to decrease as distance from the center of the city increased. \n",
    "\n",
    "Similarly, a scholar [3] argues that the prevention of crime through urban planning starts by addressing this question:**where—the identification of the precise location of the area and the type of area. On the question of “where,” the figures are examined in terms of the location.** By this approach, if exists, the relationship between the crime rate in Istanbul and the different parameters of the areas, in particular areas with higher density of social venues can be investigated. As above figures with regards to Istanbul showed istanbul is a city with a high population and population density as well as with establishments, shops and social sharing places in the city, which are located in densed population areas. Therefore, the location of social venues gain importance for different stakeholders.\n",
    "\n",
    "#### LOCATION PROBLEM\n",
    "\n",
    "As you can see from the statistics and theory, Istanbul is a city with a high population and population density. Being such a crowded city leads the owners of shops and social sharing places in the city where the population is dense. Finding hotspots gains importance to solve the crime problem as well as urban planing. This togetherness plays an important role for various stakeholders. Finding a safe location to open up a social venue, which will also have enough customers, requires an extensive research. Most of this market analysis can disregard the city structure of Istanbul. In terms of a city resident, he/She may prefer areas with a lower rate of crime with highly densed social places. On other hands, an investor may prefer districs where crime rate is lower and less tensed social places or venues; by this way she/he can install a businesss over these places where people can securely enjoy their time. For the government officials, knowing the association between higher density of social places and crime makes the resources allocated accordingly. However, getting this information together is a tough process, if taken consideration into obtaining of crime rates data and find a suitable solution for different stake holders. To shed light on this, a map and information chart can be formed on which the crime rate is placed based on the districts of Istanbul and each district is clustered according to the venue density. \n",
    "\n",
    "\n",
    "##### SOLUTION\n",
    "Since Istanbul is a highly populated city, finding a crime-free location  with highly densed social venues requires data analytics and machine learning methods. Based on the demands of our customer, we can fulfil this by finding optimal location. In order to do so, different data sources and technical resources will be employed (They will described in detail later). We will benefit from some exploratory analysis, mapping, information chart and machine learning techniques to come up with a solution. As aforementioned, this repot will also benefit from criminological theories to make our case stronger."
   ]
  },
  {
   "cell_type": "markdown",
   "metadata": {},
   "source": [
    "### 1.2. Data Description\n",
    "To evaluate the problem below data is collected:\n",
    "\n",
    "The  data regarding the Second-level Administrative Divisions of the Turkey from Spatial Data Repository of NYU was obtained from a github repository[4], from which the coordinates of the city and its districts were obtained. The population data for each district was scraped from Wikipedia [1]. The crime data of Istanbul per district was collected from an article, published in a journal [5].The crime rate was obtained by dividing the number of total crime to the population of each district.\n",
    "I used Forsquare API to get the most common venues of given district of Istanbul [6]. By this way, crime rates along with social places and venues would be evaluated together. This will help us to spot the areas with social venues and cluster them based on their density along with crim rate.\n",
    "It is not easy to find open source data regarding crime rates and other related data in Turkey. Hence, this data was collected from research articles and open sources that publish similar topics. I created my own data set, combining various sources. I used Google Map, ‘Search Nearby’ option to get the center coordinates of the each Dsitrict [7]."
   ]
  },
  {
   "cell_type": "markdown",
   "metadata": {},
   "source": [
    "**This is an example of data, obtained from different resources.**\n"
   ]
  },
  {
   "cell_type": "code",
   "execution_count": 11,
   "metadata": {},
   "outputs": [
    {
     "data": {
      "text/html": [
       "<div>\n",
       "<style scoped>\n",
       "    .dataframe tbody tr th:only-of-type {\n",
       "        vertical-align: middle;\n",
       "    }\n",
       "\n",
       "    .dataframe tbody tr th {\n",
       "        vertical-align: top;\n",
       "    }\n",
       "\n",
       "    .dataframe thead th {\n",
       "        text-align: right;\n",
       "    }\n",
       "</style>\n",
       "<table border=\"1\" class=\"dataframe\">\n",
       "  <thead>\n",
       "    <tr style=\"text-align: right;\">\n",
       "      <th></th>\n",
       "      <th>Borough</th>\n",
       "      <th>Crime Rate</th>\n",
       "      <th>Total Crime</th>\n",
       "      <th>Population</th>\n",
       "      <th>Latitude</th>\n",
       "      <th>Longitude</th>\n",
       "    </tr>\n",
       "  </thead>\n",
       "  <tbody>\n",
       "    <tr>\n",
       "      <th>0</th>\n",
       "      <td>ADALAR</td>\n",
       "      <td>0.006</td>\n",
       "      <td>109</td>\n",
       "      <td>17760</td>\n",
       "      <td>40.8619</td>\n",
       "      <td>29.1208</td>\n",
       "    </tr>\n",
       "    <tr>\n",
       "      <th>1</th>\n",
       "      <td>AVCILAR</td>\n",
       "      <td>0.005</td>\n",
       "      <td>1122</td>\n",
       "      <td>233749</td>\n",
       "      <td>40.9880</td>\n",
       "      <td>28.7170</td>\n",
       "    </tr>\n",
       "    <tr>\n",
       "      <th>2</th>\n",
       "      <td>BAGCILAR</td>\n",
       "      <td>0.004</td>\n",
       "      <td>1569</td>\n",
       "      <td>355384</td>\n",
       "      <td>41.0450</td>\n",
       "      <td>28.8338</td>\n",
       "    </tr>\n",
       "    <tr>\n",
       "      <th>3</th>\n",
       "      <td>BAHCELIEVLER</td>\n",
       "      <td>0.006</td>\n",
       "      <td>2684</td>\n",
       "      <td>478623</td>\n",
       "      <td>40.9976</td>\n",
       "      <td>28.8500</td>\n",
       "    </tr>\n",
       "    <tr>\n",
       "      <th>4</th>\n",
       "      <td>BAKIRKOY</td>\n",
       "      <td>0.007</td>\n",
       "      <td>1528</td>\n",
       "      <td>208398</td>\n",
       "      <td>40.9835</td>\n",
       "      <td>28.8679</td>\n",
       "    </tr>\n",
       "  </tbody>\n",
       "</table>\n",
       "</div>"
      ],
      "text/plain": [
       "        Borough  Crime Rate  Total Crime  Population  Latitude  Longitude\n",
       "0        ADALAR       0.006          109       17760   40.8619    29.1208\n",
       "1       AVCILAR       0.005         1122      233749   40.9880    28.7170\n",
       "2      BAGCILAR       0.004         1569      355384   41.0450    28.8338\n",
       "3  BAHCELIEVLER       0.006         2684      478623   40.9976    28.8500\n",
       "4      BAKIRKOY       0.007         1528      208398   40.9835    28.8679"
      ]
     },
     "execution_count": 11,
     "metadata": {},
     "output_type": "execute_result"
    }
   ],
   "source": []
  },
  {
   "cell_type": "code",
   "execution_count": null,
   "metadata": {},
   "outputs": [],
   "source": []
  },
  {
   "cell_type": "markdown",
   "metadata": {},
   "source": [
    "## **References:**\n",
    "\n",
    "* [1] [Istanbul - Wikipedia](https://en.wikipedia.org/wiki/Istanbul)\n",
    "* [2] [Shaw and McKay(1942)]( C. Shaw and H. McKay, Juvenile Delinquency and Urban Areas, Chicago: University of Chicago Press, 1942)\n",
    "* [3] [Van Soomeren (2000)](Crime Prevention Solutions for Europe: Designing Out Crime,Conference on the Relationship between the Physical Environment and Crime Reduction and Prevention, Amsterdam,The Netherlands, 2000)\n",
    "* [4] [Second-level Administrative Divisions of the Turkey](https://github.com/Srcanyildiz/istanbul)\n",
    "* [5] [Funda Yirmibesoglu](https://www.researchgate.net/publication/232913593_Distribution_of_Crime_Rates_in_Different_Districts_in_Istanbul)\n",
    "* [6] [Forsquare API](https://developer.foursquare.com/)\n",
    "* [7] [Google Map](https://www.google.com/maps/)"
   ]
  },
  {
   "cell_type": "code",
   "execution_count": null,
   "metadata": {},
   "outputs": [],
   "source": []
  }
 ],
 "metadata": {
  "kernelspec": {
   "display_name": "Python 3",
   "language": "python",
   "name": "python3"
  },
  "language_info": {
   "codemirror_mode": {
    "name": "ipython",
    "version": 3
   },
   "file_extension": ".py",
   "mimetype": "text/x-python",
   "name": "python",
   "nbconvert_exporter": "python",
   "pygments_lexer": "ipython3",
   "version": "3.8.5"
  }
 },
 "nbformat": 4,
 "nbformat_minor": 4
}
