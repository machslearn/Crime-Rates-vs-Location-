{
 "cells": [
  {
   "cell_type": "markdown",
   "metadata": {},
   "source": [
    " # APPLIED DATA SCIENCE CAPSTONE PROJECT\n",
    " ### Question 1 - The Battle of Neighbourhoods"
   ]
  },
  {
   "cell_type": "markdown",
   "metadata": {},
   "source": [
    "### 1. INTRODUCTION"
   ]
  },
  {
   "cell_type": "markdown",
   "metadata": {},
   "source": [
    "### 1.1 Description & Disscusion of the Background"
   ]
  },
  {
   "cell_type": "markdown",
   "metadata": {},
   "source": [
    "Historically known as Byzantium and Constantinople, Istanbul is the largest city in Turkey and the country's economic, cultural and historic center, which\n",
    "lies in both Europe and Asia, with a population of over 15 million residents,hosting 19 percent of the country's population.64.4% of the residents live on the European side and 35.6% on the Asian side. Currently, there are 39 districts in Istanbul. \n",
    "\n",
    "\n",
    "Istanbul ranks as the seventh-largest city proper in the world, and the second-largest urban agglomeration in Europe, after Moscow.The city's annual population growth of 1.5 percent ranks as one of the highest among the seventy-eight largest metropolises in the Organisation for Economic Co-operation and Development. In addition, The high population growth mirrors an urbanization trend across the country, as the second and third fastest-growing OECD metropolises are the Turkish cities of Izmir and Ankara. Moreover, Istanbul experienced especially rapid growth during the second half of the 20th century, with its population increasing tenfold between 1950 and 2000 [1].\n",
    "\n",
    "All of these figures and information show that istanbul is a higly populated city as well as has a population density. Thanks to the Urbanization, social activitiy centers and entertainment places are clustered in the centers. In addition to this, as criminological theories assert that crime and ecological factors are related. In particular, identification of the structural factors [2] that regards the spatial distribution of crime patterns—the ecological approach—has showed that crimes are alo clustered around the city center. According to this study, rates of crime were found to decrease as distance from the center of the city increased. \n",
    "\n",
    "Similarly, a scholar [3] argues that the prevention of crime through urban planning starts by addressing this question:**where—the identification of the precise location of the area and the type of area. On the question of “where,” the figures are examined in terms of the location.** By this approach, if exists, the relationship between the crime rate in Istanbul and the different parameters of the areas, in particular tensed social areas can be investigated. As above figures with regards to Istanbul showed istanbul is a city with a high population and population density as well as with establishments, shops and social sharing places in the city, which are located in densed population areas. \n",
    "\n",
    "This togetherness plays an important role for various stakeholders. In terms of a city resident, he/She may prefer areas with a lower rate of crime with highly densed social places. On other hands, an investor may prefer districs where crime rate is lower and less tensed social places or venues; by this way she/he can install a businesss over these places where people can securely enjoy their time. Yet, getting this information together is a tough process, if taken consideration into obtaining of crime rates data. To shed light on this, a map and information chart can be formed on which the crime rate is placed based on the districts of Istanbul and each district is clustered according to the venue density. \n",
    "\n",
    "\n",
    "\n"
   ]
  },
  {
   "cell_type": "markdown",
   "metadata": {},
   "source": [
    "### 1.2. Data Description\n",
    "To evaluate the problem below data is collected:\n",
    "\n",
    "The  data regarding the Second-level Administrative Divisions of the Turkey from Spatial Data Repository of NYU was obtained from a github repository[4], from which the coordinates of the city and its districts were obtained. The crime data of Istanbul per district was collected from an article, published in a journal [5].\n",
    "I used Forsquare API to get the most common venues of given district of Istanbul [6]. By this way, crime rates along with social places and venues would be evaluated together.\n",
    "It is not easy to find open source data regarding crime rates and other related data in Turkey. Hence, this data was collected from research articles and open sources that publish similar topics. I created my own data set, combining various sources. I used Google Map, ‘Search Nearby’ option to get the center coordinates of the each Dsitrict [7]."
   ]
  },
  {
   "cell_type": "markdown",
   "metadata": {},
   "source": [
    "## **References:**\n",
    "\n",
    "* [1] [Istanbul - Wikipedia](https://en.wikipedia.org/wiki/Istanbul)\n",
    "* [2] [Shaw and McKay(1942)]( C. Shaw and H. McKay, Juvenile Delinquency and Urban Areas, Chicago: University of Chicago Press, 1942)\n",
    "* [3] [Van Soomeren (2000)](Crime Prevention Solutions for Europe: Designing Out Crime,Conference on the Relationship between the Physical Environment and Crime Reduction and Prevention, Amsterdam,The Netherlands, 2000)\n",
    "* [4] [Second-level Administrative Divisions of the Turkey](https://github.com/Srcanyildiz/istanbul)\n",
    "* [5] [Funda Yirmibesoglu](https://www.researchgate.net/publication/232913593_Distribution_of_Crime_Rates_in_Different_Districts_in_Istanbul)\n",
    "* [6] [Forsquare API](https://developer.foursquare.com/)\n",
    "* [7] [Google Map](https://www.google.com/maps/)"
   ]
  },
  {
   "cell_type": "code",
   "execution_count": null,
   "metadata": {},
   "outputs": [],
   "source": []
  }
 ],
 "metadata": {
  "kernelspec": {
   "display_name": "Python 3",
   "language": "python",
   "name": "python3"
  },
  "language_info": {
   "codemirror_mode": {
    "name": "ipython",
    "version": 3
   },
   "file_extension": ".py",
   "mimetype": "text/x-python",
   "name": "python",
   "nbconvert_exporter": "python",
   "pygments_lexer": "ipython3",
   "version": "3.8.5"
  }
 },
 "nbformat": 4,
 "nbformat_minor": 4
}
